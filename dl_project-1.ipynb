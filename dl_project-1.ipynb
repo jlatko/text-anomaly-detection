{
  "nbformat": 4,
  "nbformat_minor": 0,
  "metadata": {
    "colab": {
      "name": "dl_project.ipynb",
      "provenance": [],
      "collapsed_sections": []
    },
    "kernelspec": {
      "name": "python3",
      "display_name": "Python 3"
    },
    "accelerator": "GPU"
  },
  "cells": [
    {
      "cell_type": "code",
      "metadata": {
        "id": "qGOllFB0N6hy",
        "outputId": "0bae977c-16db-4432-8488-c5a4a4049bc9",
        "colab": {
          "base_uri": "https://localhost:8080/"
        }
      },
      "source": [
        "from google.colab import drive\n",
        "drive.mount('/content/drive/')"
      ],
      "execution_count": 1,
      "outputs": [
        {
          "output_type": "stream",
          "text": [
            "Drive already mounted at /content/drive/; to attempt to forcibly remount, call drive.mount(\"/content/drive/\", force_remount=True).\n"
          ],
          "name": "stdout"
        }
      ]
    },
    {
      "cell_type": "code",
      "metadata": {
        "id": "SELKqKU-s3I-",
        "outputId": "4c1e7436-25d6-4f4a-dfe3-99893aae73f7",
        "colab": {
          "base_uri": "https://localhost:8080/"
        }
      },
      "source": [
        "! git clone --single-branch --branch datasets  https://github.com/jlatko/text-anomaly-detection"
      ],
      "execution_count": 4,
      "outputs": [
        {
          "output_type": "stream",
          "text": [
            "Cloning into 'text-anomaly-detection'...\n",
            "remote: Enumerating objects: 153, done.\u001b[K\n",
            "remote: Counting objects: 100% (153/153), done.\u001b[K\n",
            "remote: Compressing objects: 100% (103/103), done.\u001b[K\n",
            "remote: Total 153 (delta 64), reused 122 (delta 38), pack-reused 0\u001b[K\n",
            "Receiving objects: 100% (153/153), 150.30 KiB | 9.39 MiB/s, done.\n",
            "Resolving deltas: 100% (64/64), done.\n"
          ],
          "name": "stdout"
        }
      ]
    },
    {
      "cell_type": "code",
      "metadata": {
        "id": "a1qnQ9DA52cz",
        "outputId": "a9abaf05-2479-4b98-de7f-5eb71383edae",
        "colab": {
          "base_uri": "https://localhost:8080/"
        }
      },
      "source": [
        "cd text-anomaly-detection/"
      ],
      "execution_count": 5,
      "outputs": [
        {
          "output_type": "stream",
          "text": [
            "/content/text-anomaly-detection\n"
          ],
          "name": "stdout"
        }
      ]
    },
    {
      "cell_type": "code",
      "metadata": {
        "id": "qcvuMrrt58Y4",
        "outputId": "a87f9c4f-6837-4172-a65a-39bfcedad020",
        "colab": {
          "base_uri": "https://localhost:8080/"
        }
      },
      "source": [
        "!git pull"
      ],
      "execution_count": 6,
      "outputs": [
        {
          "output_type": "stream",
          "text": [
            "Already up to date.\n"
          ],
          "name": "stdout"
        }
      ]
    },
    {
      "cell_type": "code",
      "metadata": {
        "id": "cISXi9ZJ4RJy",
        "outputId": "37922829-1467-4ef8-fb71-a452f9afe05c",
        "colab": {
          "base_uri": "https://localhost:8080/"
        }
      },
      "source": [
        "ls /content/drive/'My Drive'/dl_project/data"
      ],
      "execution_count": 7,
      "outputs": [
        {
          "output_type": "stream",
          "text": [
            "friends-corpus_split_ascii_0.1_3_15_test.csv   glove.6B.100d.txt.pt\n",
            "friends-corpus_split_ascii_0.1_3_15_train.csv  glove.6B.50d.txt\n",
            "glove.6B.100d.txt                              glove.6B.50d.txt.pt\n"
          ],
          "name": "stdout"
        }
      ]
    },
    {
      "cell_type": "code",
      "metadata": {
        "id": "x2n8lnpjtEBj"
      },
      "source": [
        "! pip install -r requirements.txt"
      ],
      "execution_count": null,
      "outputs": []
    },
    {
      "cell_type": "code",
      "metadata": {
        "id": "Fo5H6BDKbXkj",
        "outputId": "80193bec-5c09-42fd-d26c-13d7e2c2981d",
        "colab": {
          "base_uri": "https://localhost:8080/"
        }
      },
      "source": [
        "import experiment"
      ],
      "execution_count": 8,
      "outputs": [
        {
          "output_type": "stream",
          "text": [
            "[nltk_data] Downloading package punkt to /root/nltk_data...\n",
            "[nltk_data]   Package punkt is already up-to-date!\n",
            "[nltk_data] Downloading package punkt to /root/nltk_data...\n",
            "[nltk_data]   Package punkt is already up-to-date!\n"
          ],
          "name": "stderr"
        }
      ]
    },
    {
      "cell_type": "markdown",
      "metadata": {
        "id": "o4FPSqIXeGIr"
      },
      "source": [
        "# New section"
      ]
    },
    {
      "cell_type": "code",
      "metadata": {
        "id": "m9elkwO1VqnK"
      },
      "source": [
        "# %run -i \"experiment.py with 'source=movies-corpus'\""
      ],
      "execution_count": 9,
      "outputs": []
    },
    {
      "cell_type": "code",
      "metadata": {
        "id": "Ia5ESkDdVuNu"
      },
      "source": [
        "# from sacred import Experiment\n",
        "\n",
        "# ex = Experiment('text_vae', interactive=True)\n",
        "\n",
        "\n",
        "# @ex.config\n",
        "# def default_config():    \n",
        "data_path = '/content/drive/My Drive/dl_project/data'\n",
        "source = 'parliament-corpus' \n",
        "# source = 'IMDB Dataset.csv' \n",
        "split_sentences=True\n",
        "punct=False\n",
        "to_ascii=True\n",
        "min_len=3\n",
        "max_len=15\n",
        "test_size=0.1\n",
        "text_field='text'\n",
        "batch_size = 32\n",
        "word_embedding_size = 300\n",
        "lr = 1e-3\n",
        "n_epochs = 100\n",
        "print_every = 10\n",
        "subsample_rows = None # for testing\n",
        "min_freq=1\n",
        "model_kwargs = {\n",
        "    'set_other_to_random': False,\n",
        "    'set_unk_to_random': True,\n",
        "    'decode_with_embeddings': False,\n",
        "    'h_dim':  256,\n",
        "    'z_dim':  256,\n",
        "    'p_word_dropout': 0.2,\n",
        "    'max_sent_len':  max_len,\n",
        "    'freeze_embeddings': True,\n",
        "}\n"
      ],
      "execution_count": 13,
      "outputs": []
    },
    {
      "cell_type": "code",
      "metadata": {
        "id": "dTxGjWb_ehbZ"
      },
      "source": [
        "\n",
        "def get_kl_weight(epoch):\n",
        "    return 0"
      ],
      "execution_count": 14,
      "outputs": []
    },
    {
      "cell_type": "code",
      "metadata": {
        "id": "MMwBYobx3MXR"
      },
      "source": [
        "# @ex.main\n",
        "# def main(source, batch_size, word_embedding_size, rnn_hidden, z_size, lr, \n",
        "#           n_epochs, print_every, split_sentences, punct, to_ascii,\n",
        "#           min_len, max_len, test_size, text_field, subsample_rows, data_path):\n",
        "#     experiment.train(source, batch_size, word_embedding_size, rnn_hidden, z_size, lr, \n",
        "#           n_epochs, print_every, split_sentences, punct, to_ascii,\n",
        "#           min_len, max_len, test_size, text_field, subsample_rows, data_path)"
      ],
      "execution_count": 15,
      "outputs": []
    },
    {
      "cell_type": "code",
      "metadata": {
        "id": "_oXO7VIk3PjP",
        "outputId": "14f844f6-b2e6-44ca-948a-032079e9269e",
        "colab": {
          "base_uri": "https://localhost:8080/"
        }
      },
      "source": [
        "experiment.train(source, batch_size, word_embedding_size, model_kwargs, lr, \n",
        "          n_epochs, print_every, split_sentences, punct, to_ascii, min_freq,\n",
        "          min_len, max_len, test_size, text_field, subsample_rows, data_path)"
      ],
      "execution_count": null,
      "outputs": [
        {
          "output_type": "stream",
          "text": [
            "Downloading dataset...\n",
            "Downloading parliament-corpus to /root/.convokit/downloads/parliament-corpus\n",
            "Downloading parliament-corpus from http://zissou.infosci.cornell.edu/convokit/datasets/parliament-corpus/parliament-corpus.zip (342.6MB)... "
          ],
          "name": "stdout"
        }
      ]
    },
    {
      "cell_type": "code",
      "metadata": {
        "id": "byxGAOV1PH3W"
      },
      "source": [
        ""
      ],
      "execution_count": null,
      "outputs": []
    },
    {
      "cell_type": "code",
      "metadata": {
        "id": "mPnO0WOU6xup"
      },
      "source": [
        ""
      ],
      "execution_count": null,
      "outputs": []
    }
  ]
}